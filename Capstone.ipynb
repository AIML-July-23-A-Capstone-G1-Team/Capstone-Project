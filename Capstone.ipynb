{
 "cells": [
  {
   "cell_type": "markdown",
   "metadata": {},
   "source": [
    "# <span style=\"font-family: Arial; font-weight:bold;font-size:1.9em;color:#0e92ea\"> Capstone Project\n"
   ]
  },
  {
   "cell_type": "markdown",
   "metadata": {},
   "source": [
    "### <span style=\"font-family: Arial; font-weight:bold;font-size:1.2em;color:#da614e\"> Capstone Overview\n"
   ]
  },
  {
   "cell_type": "markdown",
   "metadata": {},
   "source": [
    "## <span style=\"font-family: Arial; font-weight:normal;font-size:0.5em;color:#0e92ea\"> Objective:\n",
    "\n",
    "- To undertake a multi-faceted project that demonstrates your understanding and mastery of the key conceptual and technological aspects of Deep Learning.\n",
    "- To develop an understanding of how challenging human-level problems can be approached and solved using a combination of tools and techniques.\n",
    "- To understand current scenarios in deep learning, understand the practicalities and the trade-offs that need to be made when solving a problem in real life.\n",
    "\n",
    "### <span style=\"font-family: Arial; font-weight:bold;font-size:1.2em;color:#da614e\"> Milestones:\n",
    "\n",
    "## <span style=\"font-family: Arial; font-weight:normal;font-size:0.5em;color:#0e92ea\"> This project has 2 milestones.\n",
    "\n",
    "You get 3 weeks for completing each milestone.\n",
    "The 1st milestone should be submitted as part of the interim report.\n",
    "\n",
    "### <span style=\"font-family: Arial; font-weight:bold;font-size:1.0em;color:#da614e\"> 1st Milestone:\n",
    "\n",
    "## <span style=\"font-family: Arial; font-weight:normal;font-size:0.5em;color:#0e92ea\"> 1. Problem interpretation\n",
    "\n",
    "- Understand the data\n",
    "- Make an abstract or an overview based on your approach\n",
    "- Break the problem into smaller tasks\n",
    "- Discuss among your teammates and share responsibilities\n",
    "\n",
    "## <span style=\"font-family: Arial; font-weight:normal;font-size:0.5em;color:#0e92ea\"> 2. Data analysis and preprocessing:\n",
    "\n",
    "Visual displays are powerful when used well, so think carefully about the information the display.\n",
    "\n",
    "- Include any insightful visualization\n",
    "- Share and explain particularly meaningful features, interactions or summary of data\n",
    "- Display examples to input in your model\n",
    "- Explain changes to be incorporated into data so that it becomes ready for the model\n",
    "\n",
    "## <span style=\"font-family: Arial; font-weight:normal;font-size:0.5em;color:#0e92ea\"> 3. Modeling\n",
    "\n",
    "- What kind of neural network you have used and why?\n",
    "- What progress you have made towards your intended solution?\n"
   ]
  },
  {
   "cell_type": "markdown",
   "metadata": {},
   "source": [
    "### <span style=\"font-family: Arial; font-weight:bold;font-size:1.0em;color:#da614e\"> 2nd Milestone\n",
    "\n",
    "## <span style=\"font-family: Arial; font-weight:normal;font-size:0.5em;color:#0e92ea\"> 4. Model evaluation\n",
    "\n",
    "- Describe how you will proceed with the analysis\n",
    "- Compare different models and choose which model to use\n",
    "- Do hyper-parameter tuning of your model\n",
    "- How will you build on your initial analysis to increase the accuracy of your model?\n",
    "\n",
    "## <span style=\"font-family: Arial; font-weight:normal;font-size:0.5em;color:#0e92ea\"> 5. Presentation and Report\n",
    "\n",
    "- You should start preparing the final report at least 2 weeks prior to the project completion date.\n",
    "- Teams should send a draft Last of the project before the last session to the mentor and get the necessary inputs for submission.\n",
    "- The expectations for the final report will be included in your Capstone course page\n"
   ]
  },
  {
   "cell_type": "markdown",
   "metadata": {},
   "source": [
    "### <span style=\"font-family: Arial; font-weight:bold;font-size:1.2em;color:#da614e\"> Problem Statement\n"
   ]
  },
  {
   "cell_type": "markdown",
   "metadata": {},
   "source": [
    "## <span style=\"font-family: Arial; font-weight:normal;font-size:0.5em;color:#0e92ea\"> DOMAIN:\n",
    "\n",
    "Health Care\n",
    "\n",
    "## <span style=\"font-family: Arial; font-weight:normal;font-size:0.5em;color:#0e92ea\"> CONTEXT:\n",
    "\n",
    "Computer vision can be used in health care for identifying diseases. In Pneumonia detection we need to detect Inflammation of the lungs. In this challenge, you’re required to build an algorithm to detect a visual signal for pneumonia in medical images. Specifically, your algorithm needs to automatically locate lung opacities on chest radiographs\n",
    "\n",
    "## <span style=\"font-family: Arial; font-weight:normal;font-size:0.5em;color:#0e92ea\"> DATA DESCRIPTION:\n",
    "\n",
    "    - In the dataset, some of the features are labeled “Not Normal No Lung Opacity”. This extra third class indicates that while pneumonia was determined not to be present, there was nonetheless some type of abnormality on the image and oftentimes this finding may mimic the appearance of true pneumonia.\n",
    "    - Dicom original images: Medical images are stored in a special format called DICOM files (*.dcm). They contain a combination of header metadata as well as underlying raw image arrays for pixel data.\n",
    "    - Dataset has been attached along with this project. Please use the same for this capstone project.\n",
    "    - Original  link  to  the  dataset  : https://www.kaggle.com/c/rsna-pneumonia-detection-challenge/data[for your reference only]. You can refer to the details of the dataset in the above link\n",
    "    - Acknowledgements: https://www.kaggle.com/c/rsna-pneumonia-detection-challenge/overview/acknowledgements.\n",
    "\n",
    "## <span style=\"font-family: Arial; font-weight:normal;font-size:0.5em;color:#0e92ea\"> PROJECT OBJECTIVE:\n",
    "\n",
    "Design a DL based algorithm for detecting pneumonia.\n"
   ]
  },
  {
   "cell_type": "markdown",
   "metadata": {},
   "source": [
    "## <span style=\"font-family: Arial; font-weight:normal;font-size:0.5em;color:#0e92ea\"> PROJECT TASK: [ Score: 100 points]\n",
    "\n",
    "1. Milestone 1:[ Score: 40 points]\n",
    "   - Input: Context and Dataset\n",
    "   - Process:\n",
    "     - Step 1: Import the data. [ 3 points ]\n",
    "     - Step 2: Map training and testing images to its classes. [ 4 points ]\n",
    "     - Step 3: Map training and testing images to its annotations. [ 4 points ]\n",
    "     - Step 4: Preprocessing and Visualisation of different classes [4 Points]\n",
    "     - Step 5: Display images with bounding box. [ 5 points ]\n",
    "     - Step 6: Design, train and test basic CNN models for classification. [ 10 points ]\n",
    "     - Step 7: Interim report [ 10 points ]\n",
    "   - Submission: Interim report, Jupyter Notebook with all the steps in Milestone-1\n",
    "2. Milestone 2: [ Score: 60 points]\n",
    "   - Input: Preprocessed output from Milestone-1\n",
    "   - Process:\n",
    "     - Step 1: Fine tune the trained basic CNN models for classification. [ 5 points ]\n",
    "     - Step 2: Apply Transfer Learning model for classification [4 points]\n",
    "     - Step 3: Design, train and test RCNN & its hybrids based object detection models to impose the bounding box or mask over the area of interest. [ 8 points ]\n",
    "     - Step 4: Pickle the model for future prediction [ 3 Points]\n",
    "     - Step 5: Final Report [40 Points]\n",
    "   - Submission: Final report, Jupyter Notebook with all the steps in Milestone-1 and Milestone-2\n",
    "3. Milestone 3: [ Optional ]\n",
    "   - Process:\n",
    "     - Step 1: Design a clickable UI based interface which can allow the user to browse & input the image, output the class and the bounding box or mask [ highlight area of interest ] of the input image\n",
    "       -Submission: Final report, Jupyter Notebook with the addition of clickable UI based interface\n"
   ]
  },
  {
   "cell_type": "markdown",
   "metadata": {},
   "source": [
    "### <span style=\"font-family: Arial; font-weight:bold;font-size:0.7em;color:#da614e\"> Notebook Setup\n"
   ]
  },
  {
   "cell_type": "code",
   "execution_count": 3,
   "metadata": {},
   "outputs": [],
   "source": [
    "# Importing libraries \n",
    "import os\n",
    "import numpy as np\n",
    "import pandas as pd\n",
    "import matplotlib.patches as patches\n",
    "from matplotlib.patches import Rectangle\n",
    "import matplotlib.pyplot as plt\n",
    "from matplotlib import pyplot\n",
    "%matplotlib inline\n",
    "import seaborn as sns\n",
    "import cv2\n",
    "import math\n",
    "from skimage import measure\n",
    "from skimage.transform import resize\n",
    "from glob import glob\n",
    "from collections.abc import MutableSequence\n",
    "import pydicom as dcm"
   ]
  },
  {
   "cell_type": "markdown",
   "metadata": {},
   "source": [
    "### <span style=\"font-family: Arial; font-weight:bold;font-size:0.7em;color:#da614e\"> Step 1: Import the data. [3 points]\n"
   ]
  },
  {
   "cell_type": "code",
   "execution_count": 4,
   "metadata": {},
   "outputs": [],
   "source": [
    "# Read the train and test image labels from csv files using pandas\n",
    "class_info = pd.read_csv(\"labels/stage_2_detailed_class_info.csv\")\n",
    "train_labels = pd.read_csv(\"labels/stage_2_train_labels.csv\")"
   ]
  },
  {
   "cell_type": "code",
   "execution_count": 5,
   "metadata": {},
   "outputs": [],
   "source": [
    "# Path\n",
    "PATH = r\"C:\\Users\\PraneelSreekesh\\OneDrive - The Software Works Inc\\Desktop\\Capstone-Project\"  # add your directory location like C:\\Users\\\n",
    "os.chdir(PATH)\n",
    "\n",
    "TRAIN_IMAGES = os.path.join(PATH, \"stage_2_train_images\\\\\")\n",
    "TEST_IMAGES = os.path.join(PATH, \"stage_2_test_images\\\\\")\n",
    "\n",
    "# Output files will be stored here\n",
    "OUTPUT_DIR = os.path.join(PATH, \"output\\\\\")"
   ]
  },
  {
   "cell_type": "code",
   "execution_count": 39,
   "metadata": {},
   "outputs": [
    {
     "name": "stdout",
     "output_type": "stream",
     "text": [
      "<class 'pandas.core.frame.DataFrame'>\n",
      "RangeIndex: 30227 entries, 0 to 30226\n",
      "Data columns (total 7 columns):\n",
      " #   Column           Non-Null Count  Dtype  \n",
      "---  ------           --------------  -----  \n",
      " 0   patientId        30227 non-null  object \n",
      " 1   x                9555 non-null   float64\n",
      " 2   y                9555 non-null   float64\n",
      " 3   width            9555 non-null   float64\n",
      " 4   height           9555 non-null   float64\n",
      " 5   Target           30227 non-null  int64  \n",
      " 6   number_of_boxes  30227 non-null  int64  \n",
      "dtypes: float64(4), int64(2), object(1)\n",
      "memory usage: 1.6+ MB\n"
     ]
    }
   ],
   "source": [
    "train_labels.info()"
   ]
  },
  {
   "cell_type": "code",
   "execution_count": 40,
   "metadata": {},
   "outputs": [
    {
     "name": "stdout",
     "output_type": "stream",
     "text": [
      "<class 'pandas.core.frame.DataFrame'>\n",
      "RangeIndex: 30227 entries, 0 to 30226\n",
      "Data columns (total 2 columns):\n",
      " #   Column     Non-Null Count  Dtype \n",
      "---  ------     --------------  ----- \n",
      " 0   patientId  30227 non-null  object\n",
      " 1   class      30227 non-null  object\n",
      "dtypes: object(2)\n",
      "memory usage: 472.4+ KB\n"
     ]
    }
   ],
   "source": [
    "class_info.info()"
   ]
  },
  {
   "cell_type": "code",
   "execution_count": 41,
   "metadata": {},
   "outputs": [
    {
     "data": {
      "text/html": [
       "<div>\n",
       "<style scoped>\n",
       "    .dataframe tbody tr th:only-of-type {\n",
       "        vertical-align: middle;\n",
       "    }\n",
       "\n",
       "    .dataframe tbody tr th {\n",
       "        vertical-align: top;\n",
       "    }\n",
       "\n",
       "    .dataframe thead th {\n",
       "        text-align: right;\n",
       "    }\n",
       "</style>\n",
       "<table border=\"1\" class=\"dataframe\">\n",
       "  <thead>\n",
       "    <tr style=\"text-align: right;\">\n",
       "      <th></th>\n",
       "      <th>patientId</th>\n",
       "      <th>class</th>\n",
       "    </tr>\n",
       "  </thead>\n",
       "  <tbody>\n",
       "    <tr>\n",
       "      <th>24989</th>\n",
       "      <td>e02fdaed-5d9d-4fbe-8222-cfbdd3b00a3f</td>\n",
       "      <td>No Lung Opacity / Not Normal</td>\n",
       "    </tr>\n",
       "    <tr>\n",
       "      <th>16756</th>\n",
       "      <td>a179abc4-f1b4-4d68-be05-f716afbbfea3</td>\n",
       "      <td>No Lung Opacity / Not Normal</td>\n",
       "    </tr>\n",
       "    <tr>\n",
       "      <th>28333</th>\n",
       "      <td>fad6cec8-922a-4490-ab8c-57dd59e908c2</td>\n",
       "      <td>No Lung Opacity / Not Normal</td>\n",
       "    </tr>\n",
       "    <tr>\n",
       "      <th>26845</th>\n",
       "      <td>eefe766c-7628-48a6-be6f-f464945b06da</td>\n",
       "      <td>No Lung Opacity / Not Normal</td>\n",
       "    </tr>\n",
       "    <tr>\n",
       "      <th>6819</th>\n",
       "      <td>51f46b01-a6bc-432e-acd7-5a8e8732a883</td>\n",
       "      <td>Normal</td>\n",
       "    </tr>\n",
       "  </tbody>\n",
       "</table>\n",
       "</div>"
      ],
      "text/plain": [
       "                                  patientId                         class\n",
       "24989  e02fdaed-5d9d-4fbe-8222-cfbdd3b00a3f  No Lung Opacity / Not Normal\n",
       "16756  a179abc4-f1b4-4d68-be05-f716afbbfea3  No Lung Opacity / Not Normal\n",
       "28333  fad6cec8-922a-4490-ab8c-57dd59e908c2  No Lung Opacity / Not Normal\n",
       "26845  eefe766c-7628-48a6-be6f-f464945b06da  No Lung Opacity / Not Normal\n",
       "6819   51f46b01-a6bc-432e-acd7-5a8e8732a883                        Normal"
      ]
     },
     "execution_count": 41,
     "metadata": {},
     "output_type": "execute_result"
    }
   ],
   "source": [
    "class_info.sample(5)"
   ]
  },
  {
   "cell_type": "code",
   "execution_count": 42,
   "metadata": {},
   "outputs": [
    {
     "data": {
      "text/html": [
       "<div>\n",
       "<style scoped>\n",
       "    .dataframe tbody tr th:only-of-type {\n",
       "        vertical-align: middle;\n",
       "    }\n",
       "\n",
       "    .dataframe tbody tr th {\n",
       "        vertical-align: top;\n",
       "    }\n",
       "\n",
       "    .dataframe thead th {\n",
       "        text-align: right;\n",
       "    }\n",
       "</style>\n",
       "<table border=\"1\" class=\"dataframe\">\n",
       "  <thead>\n",
       "    <tr style=\"text-align: right;\">\n",
       "      <th></th>\n",
       "      <th>patientId</th>\n",
       "      <th>x</th>\n",
       "      <th>y</th>\n",
       "      <th>width</th>\n",
       "      <th>height</th>\n",
       "      <th>Target</th>\n",
       "      <th>number_of_boxes</th>\n",
       "    </tr>\n",
       "  </thead>\n",
       "  <tbody>\n",
       "    <tr>\n",
       "      <th>5545</th>\n",
       "      <td>479740fb-dbcb-4cfd-9923-d913607dbbdf</td>\n",
       "      <td>NaN</td>\n",
       "      <td>NaN</td>\n",
       "      <td>NaN</td>\n",
       "      <td>NaN</td>\n",
       "      <td>0</td>\n",
       "      <td>1</td>\n",
       "    </tr>\n",
       "    <tr>\n",
       "      <th>21460</th>\n",
       "      <td>c3713d1a-6d8e-47c8-ae09-6ae3a5cfc72d</td>\n",
       "      <td>NaN</td>\n",
       "      <td>NaN</td>\n",
       "      <td>NaN</td>\n",
       "      <td>NaN</td>\n",
       "      <td>0</td>\n",
       "      <td>1</td>\n",
       "    </tr>\n",
       "    <tr>\n",
       "      <th>6192</th>\n",
       "      <td>4cec7c74-e39a-48d0-8ec5-2b04ad0bfa3e</td>\n",
       "      <td>208.0</td>\n",
       "      <td>325.0</td>\n",
       "      <td>250.0</td>\n",
       "      <td>215.0</td>\n",
       "      <td>1</td>\n",
       "      <td>1</td>\n",
       "    </tr>\n",
       "    <tr>\n",
       "      <th>18413</th>\n",
       "      <td>adce8349-6836-4328-ab63-f356d0bbe298</td>\n",
       "      <td>647.0</td>\n",
       "      <td>389.0</td>\n",
       "      <td>201.0</td>\n",
       "      <td>208.0</td>\n",
       "      <td>1</td>\n",
       "      <td>2</td>\n",
       "    </tr>\n",
       "    <tr>\n",
       "      <th>11601</th>\n",
       "      <td>784937c8-08f4-4c04-a2fe-b4dde8643154</td>\n",
       "      <td>83.0</td>\n",
       "      <td>590.0</td>\n",
       "      <td>233.0</td>\n",
       "      <td>191.0</td>\n",
       "      <td>1</td>\n",
       "      <td>2</td>\n",
       "    </tr>\n",
       "  </tbody>\n",
       "</table>\n",
       "</div>"
      ],
      "text/plain": [
       "                                  patientId      x      y  width  height  \\\n",
       "5545   479740fb-dbcb-4cfd-9923-d913607dbbdf    NaN    NaN    NaN     NaN   \n",
       "21460  c3713d1a-6d8e-47c8-ae09-6ae3a5cfc72d    NaN    NaN    NaN     NaN   \n",
       "6192   4cec7c74-e39a-48d0-8ec5-2b04ad0bfa3e  208.0  325.0  250.0   215.0   \n",
       "18413  adce8349-6836-4328-ab63-f356d0bbe298  647.0  389.0  201.0   208.0   \n",
       "11601  784937c8-08f4-4c04-a2fe-b4dde8643154   83.0  590.0  233.0   191.0   \n",
       "\n",
       "       Target  number_of_boxes  \n",
       "5545        0                1  \n",
       "21460       0                1  \n",
       "6192        1                1  \n",
       "18413       1                2  \n",
       "11601       1                2  "
      ]
     },
     "execution_count": 42,
     "metadata": {},
     "output_type": "execute_result"
    }
   ],
   "source": [
    "train_labels.sample(5)"
   ]
  },
  {
   "cell_type": "code",
   "execution_count": 44,
   "metadata": {},
   "outputs": [
    {
     "name": "stdout",
     "output_type": "stream",
     "text": [
      "Number of rows (unique boxes per patient) in main train dataset: 30227\n",
      "Number of unique patient IDs: 26684\n"
     ]
    }
   ],
   "source": [
    "print('Number of rows (unique boxes per patient) in main train dataset:', train_labels.shape[0])\n",
    "print('Number of unique patient IDs:', train_labels['patientId'].nunique())"
   ]
  },
  {
   "cell_type": "code",
   "execution_count": 45,
   "metadata": {},
   "outputs": [
    {
     "name": "stdout",
     "output_type": "stream",
     "text": [
      "Shape of the Train Labels dataframe: 30227 rows and 7 columns\n",
      "Shape of the Class info dataframe: 30227 rows and 2 columns\n"
     ]
    }
   ],
   "source": [
    "print(f'Shape of the Train Labels dataframe: {train_labels.shape[0]} rows and {train_labels.shape[1]} columns')\n",
    "print(f'Shape of the Class info dataframe: {class_info.shape[0]} rows and {class_info.shape[1]} columns')"
   ]
  },
  {
   "cell_type": "code",
   "execution_count": 46,
   "metadata": {},
   "outputs": [
    {
     "name": "stdout",
     "output_type": "stream",
     "text": [
      "Number of duplicates in Train Labels dataframe: 3543\n",
      "Number of duplicates in Class info dataframe: 3543\n"
     ]
    }
   ],
   "source": [
    "# Duplicate records count\n",
    "print('Number of duplicates in Train Labels dataframe: {}'.format(len(train_labels) - (train_labels['patientId'].nunique())))\n",
    "print('Number of duplicates in Class info dataframe: {}'.format(len(class_info) - (class_info['patientId'].nunique())))"
   ]
  },
  {
   "cell_type": "code",
   "execution_count": 47,
   "metadata": {},
   "outputs": [
    {
     "name": "stdout",
     "output_type": "stream",
     "text": [
      "Number of unique records in Train Labels dataframe: 26684\n",
      "Number of unique records in Class info dataframe: 26684\n"
     ]
    }
   ],
   "source": [
    "# Unique records count\n",
    "print('Number of unique records in Train Labels dataframe: {}'.format(train_labels['patientId'].nunique()))\n",
    "print('Number of unique records in Class info dataframe: {}'.format(class_info['patientId'].nunique()))"
   ]
  },
  {
   "cell_type": "code",
   "execution_count": 48,
   "metadata": {},
   "outputs": [],
   "source": [
    "def missing_data(data):\n",
    "  total = data.isnull().sum().sort_values(ascending = False)\n",
    "  percent = (data.isnull().sum()/data.isnull().count()*100).sort_values(ascending = False)\n",
    "  return np.transpose(pd.concat([total, percent], axis=1, keys=['Total', 'Percent']))"
   ]
  },
  {
   "cell_type": "code",
   "execution_count": 49,
   "metadata": {},
   "outputs": [
    {
     "data": {
      "text/html": [
       "<div>\n",
       "<style scoped>\n",
       "    .dataframe tbody tr th:only-of-type {\n",
       "        vertical-align: middle;\n",
       "    }\n",
       "\n",
       "    .dataframe tbody tr th {\n",
       "        vertical-align: top;\n",
       "    }\n",
       "\n",
       "    .dataframe thead th {\n",
       "        text-align: right;\n",
       "    }\n",
       "</style>\n",
       "<table border=\"1\" class=\"dataframe\">\n",
       "  <thead>\n",
       "    <tr style=\"text-align: right;\">\n",
       "      <th></th>\n",
       "      <th>x</th>\n",
       "      <th>y</th>\n",
       "      <th>width</th>\n",
       "      <th>height</th>\n",
       "      <th>patientId</th>\n",
       "      <th>Target</th>\n",
       "      <th>number_of_boxes</th>\n",
       "    </tr>\n",
       "  </thead>\n",
       "  <tbody>\n",
       "    <tr>\n",
       "      <th>Total</th>\n",
       "      <td>20672.000000</td>\n",
       "      <td>20672.000000</td>\n",
       "      <td>20672.000000</td>\n",
       "      <td>20672.000000</td>\n",
       "      <td>0.0</td>\n",
       "      <td>0.0</td>\n",
       "      <td>0.0</td>\n",
       "    </tr>\n",
       "    <tr>\n",
       "      <th>Percent</th>\n",
       "      <td>68.389188</td>\n",
       "      <td>68.389188</td>\n",
       "      <td>68.389188</td>\n",
       "      <td>68.389188</td>\n",
       "      <td>0.0</td>\n",
       "      <td>0.0</td>\n",
       "      <td>0.0</td>\n",
       "    </tr>\n",
       "  </tbody>\n",
       "</table>\n",
       "</div>"
      ],
      "text/plain": [
       "                    x             y         width        height  patientId  \\\n",
       "Total    20672.000000  20672.000000  20672.000000  20672.000000        0.0   \n",
       "Percent     68.389188     68.389188     68.389188     68.389188        0.0   \n",
       "\n",
       "         Target  number_of_boxes  \n",
       "Total       0.0              0.0  \n",
       "Percent     0.0              0.0  "
      ]
     },
     "execution_count": 49,
     "metadata": {},
     "output_type": "execute_result"
    }
   ],
   "source": [
    "missing_data(train_labels)"
   ]
  },
  {
   "cell_type": "code",
   "execution_count": 50,
   "metadata": {},
   "outputs": [
    {
     "data": {
      "text/html": [
       "<div>\n",
       "<style scoped>\n",
       "    .dataframe tbody tr th:only-of-type {\n",
       "        vertical-align: middle;\n",
       "    }\n",
       "\n",
       "    .dataframe tbody tr th {\n",
       "        vertical-align: top;\n",
       "    }\n",
       "\n",
       "    .dataframe thead th {\n",
       "        text-align: right;\n",
       "    }\n",
       "</style>\n",
       "<table border=\"1\" class=\"dataframe\">\n",
       "  <thead>\n",
       "    <tr style=\"text-align: right;\">\n",
       "      <th></th>\n",
       "      <th>patientId</th>\n",
       "      <th>class</th>\n",
       "    </tr>\n",
       "  </thead>\n",
       "  <tbody>\n",
       "    <tr>\n",
       "      <th>Total</th>\n",
       "      <td>0.0</td>\n",
       "      <td>0.0</td>\n",
       "    </tr>\n",
       "    <tr>\n",
       "      <th>Percent</th>\n",
       "      <td>0.0</td>\n",
       "      <td>0.0</td>\n",
       "    </tr>\n",
       "  </tbody>\n",
       "</table>\n",
       "</div>"
      ],
      "text/plain": [
       "         patientId  class\n",
       "Total          0.0    0.0\n",
       "Percent        0.0    0.0"
      ]
     },
     "execution_count": 50,
     "metadata": {},
     "output_type": "execute_result"
    }
   ],
   "source": [
    "missing_data(class_info)"
   ]
  },
  {
   "cell_type": "code",
   "execution_count": 53,
   "metadata": {},
   "outputs": [
    {
     "name": "stdout",
     "output_type": "stream",
     "text": [
      "Null value counts for the targets: {0: 20672, 1: 9555}\n"
     ]
    }
   ],
   "source": [
    "print('Null value counts for the targets: {}'.format(train_labels['Target'].value_counts().to_dict()))"
   ]
  },
  {
   "cell_type": "code",
   "execution_count": 52,
   "metadata": {},
   "outputs": [
    {
     "data": {
      "image/png": "[encoded data removed]",
      "text/plain": [
       "<Figure size 800x600 with 1 Axes>"
      ]
     },
     "metadata": {},
     "output_type": "display_data"
    }
   ],
   "source": [
    "plt.rcParams['figure.figsize'] = [8, 6]\n",
    "plt.rcParams['lines.linewidth'] = 1.5\n",
    "\n",
    "def countPlot(target=\"Target\"):\n",
    "    ax = sns.countplot(x=target, data=train_labels, palette=\"pastel\")\n",
    "\n",
    "    for p in ax.patches:\n",
    "        ax.annotate('{}'.format(p.get_height()), (p.get_x()+0.375, p.get_height()+0.15), ha='center')\n",
    "\n",
    "    plt.show()\n",
    "\n",
    "countPlot(\"Target\")\n"
   ]
  },
  {
   "cell_type": "code",
   "execution_count": 55,
   "metadata": {},
   "outputs": [
    {
     "data": {
      "image/png": "[encoded data removed]",
      "text/plain": [
       "<Figure size 1200x400 with 1 Axes>"
      ]
     },
     "metadata": {},
     "output_type": "display_data"
    }
   ],
   "source": [
    "fig = plt.figure(figsize = (12, 4))\n",
    "\n",
    "ax = fig.add_subplot(121)\n",
    "g = (train_labels['Target'].value_counts()\n",
    "    .plot(kind = 'pie', autopct = '%.0f%%', \n",
    "          labels = ['Negative', 'Pneumonia Evidence'], \n",
    "          colors = ['#ffcc99', '#ff9999'], \n",
    "          startangle = 90, \n",
    "          title = 'Distribution of Target', fontsize = 10)\n",
    "    .set_ylabel(''))\n",
    "plt.tight_layout()"
   ]
  },
  {
   "cell_type": "code",
   "execution_count": 57,
   "metadata": {},
   "outputs": [
    {
     "data": {
      "image/png": "[encoded data removed]",
      "text/plain": [
       "<Figure size 1000x800 with 1 Axes>"
      ]
     },
     "metadata": {},
     "output_type": "display_data"
    }
   ],
   "source": [
    "class_info_df = pd.DataFrame(class_info)\n",
    "\n",
    "f, ax = plt.subplots(1, 1, figsize=(10, 8))\n",
    "total = float(len(class_info_df))\n",
    "\n",
    "sns.countplot(x='class', data=class_info_df, order=class_info_df['class'].value_counts().index, palette='Set3')\n",
    "\n",
    "for p in ax.patches:\n",
    "    height = p.get_height()\n",
    "    ax.text(p.get_x() + p.get_width() / 2.,\n",
    "            height + 0.6,\n",
    "            '{:1.2f}%'.format(100 * height / total),\n",
    "            ha=\"center\")\n",
    "\n",
    "plt.show()"
   ]
  },
  {
   "cell_type": "code",
   "execution_count": null,
   "metadata": {},
   "outputs": [],
   "source": []
  },
  {
   "cell_type": "code",
   "execution_count": null,
   "metadata": {},
   "outputs": [],
   "source": []
  },
  {
   "cell_type": "code",
   "execution_count": null,
   "metadata": {},
   "outputs": [],
   "source": []
  },
  {
   "cell_type": "code",
   "execution_count": null,
   "metadata": {},
   "outputs": [],
   "source": []
  },
  {
   "cell_type": "code",
   "execution_count": null,
   "metadata": {},
   "outputs": [],
   "source": []
  },
  {
   "cell_type": "code",
   "execution_count": null,
   "metadata": {},
   "outputs": [],
   "source": []
  },
  {
   "cell_type": "code",
   "execution_count": null,
   "metadata": {},
   "outputs": [],
   "source": []
  },
  {
   "cell_type": "code",
   "execution_count": null,
   "metadata": {},
   "outputs": [],
   "source": []
  },
  {
   "cell_type": "code",
   "execution_count": null,
   "metadata": {},
   "outputs": [],
   "source": []
  },
  {
   "cell_type": "code",
   "execution_count": null,
   "metadata": {},
   "outputs": [],
   "source": []
  },
  {
   "cell_type": "code",
   "execution_count": null,
   "metadata": {},
   "outputs": [],
   "source": []
  },
  {
   "cell_type": "code",
   "execution_count": null,
   "metadata": {},
   "outputs": [],
   "source": []
  },
  {
   "cell_type": "code",
   "execution_count": null,
   "metadata": {},
   "outputs": [],
   "source": []
  },
  {
   "cell_type": "code",
   "execution_count": null,
   "metadata": {},
   "outputs": [],
   "source": []
  },
  {
   "cell_type": "code",
   "execution_count": null,
   "metadata": {},
   "outputs": [],
   "source": []
  },
  {
   "cell_type": "code",
   "execution_count": null,
   "metadata": {},
   "outputs": [],
   "source": []
  },
  {
   "cell_type": "code",
   "execution_count": null,
   "metadata": {},
   "outputs": [],
   "source": []
  },
  {
   "cell_type": "code",
   "execution_count": null,
   "metadata": {},
   "outputs": [],
   "source": []
  },
  {
   "cell_type": "code",
   "execution_count": null,
   "metadata": {},
   "outputs": [],
   "source": []
  },
  {
   "cell_type": "code",
   "execution_count": null,
   "metadata": {},
   "outputs": [],
   "source": []
  },
  {
   "cell_type": "code",
   "execution_count": null,
   "metadata": {},
   "outputs": [],
   "source": []
  },
  {
   "cell_type": "code",
   "execution_count": null,
   "metadata": {},
   "outputs": [],
   "source": []
  },
  {
   "cell_type": "code",
   "execution_count": null,
   "metadata": {},
   "outputs": [],
   "source": []
  },
  {
   "cell_type": "code",
   "execution_count": null,
   "metadata": {},
   "outputs": [],
   "source": []
  },
  {
   "cell_type": "code",
   "execution_count": null,
   "metadata": {},
   "outputs": [],
   "source": []
  },
  {
   "cell_type": "code",
   "execution_count": null,
   "metadata": {},
   "outputs": [],
   "source": []
  },
  {
   "cell_type": "code",
   "execution_count": null,
   "metadata": {},
   "outputs": [],
   "source": []
  },
  {
   "cell_type": "code",
   "execution_count": null,
   "metadata": {},
   "outputs": [],
   "source": []
  },
  {
   "cell_type": "code",
   "execution_count": null,
   "metadata": {},
   "outputs": [],
   "source": []
  },
  {
   "cell_type": "code",
   "execution_count": null,
   "metadata": {},
   "outputs": [],
   "source": []
  },
  {
   "cell_type": "code",
   "execution_count": null,
   "metadata": {},
   "outputs": [],
   "source": []
  },
  {
   "cell_type": "code",
   "execution_count": null,
   "metadata": {},
   "outputs": [],
   "source": []
  },
  {
   "cell_type": "code",
   "execution_count": null,
   "metadata": {},
   "outputs": [],
   "source": []
  },
  {
   "cell_type": "code",
   "execution_count": null,
   "metadata": {},
   "outputs": [],
   "source": []
  },
  {
   "cell_type": "code",
   "execution_count": null,
   "metadata": {},
   "outputs": [],
   "source": []
  },
  {
   "cell_type": "code",
   "execution_count": null,
   "metadata": {},
   "outputs": [],
   "source": []
  },
  {
   "cell_type": "code",
   "execution_count": null,
   "metadata": {},
   "outputs": [],
   "source": []
  },
  {
   "cell_type": "code",
   "execution_count": null,
   "metadata": {},
   "outputs": [],
   "source": []
  },
  {
   "cell_type": "code",
   "execution_count": null,
   "metadata": {},
   "outputs": [],
   "source": []
  }
 ],
 "metadata": {
  "kernelspec": {
   "display_name": "Python 3",
   "language": "python",
   "name": "python3"
  },
  "language_info": {
   "codemirror_mode": {
    "name": "ipython",
    "version": 3
   },
   "file_extension": ".py",
   "mimetype": "text/x-python",
   "name": "python",
   "nbconvert_exporter": "python",
   "pygments_lexer": "ipython3",
   "version": "3.11.7"
  }
 },
 "nbformat": 4,
 "nbformat_minor": 2
}
