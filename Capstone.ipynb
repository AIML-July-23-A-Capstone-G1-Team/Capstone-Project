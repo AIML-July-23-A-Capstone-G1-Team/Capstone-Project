{
 "cells": [
  {
   "cell_type": "markdown",
   "metadata": {},
   "source": [
    "# <span style=\"font-family: Arial; font-weight:bold;font-size:1.9em;color:#0e92ea\"> Capstone Project\n"
   ]
  },
  {
   "cell_type": "markdown",
   "metadata": {},
   "source": [
    "### <span style=\"font-family: Arial; font-weight:bold;font-size:1.2em;color:#da614e\"> Capstone Overview\n"
   ]
  },
  {
   "cell_type": "markdown",
   "metadata": {},
   "source": [
    "## <span style=\"font-family: Arial; font-weight:normal;font-size:0.5em;color:#0e92ea\"> Objective:\n",
    "\n",
    "- To undertake a multi-faceted project that demonstrates your understanding and mastery of the key conceptual and technological aspects of Deep Learning.\n",
    "- To develop an understanding of how challenging human-level problems can be approached and solved using a combination of tools and techniques.\n",
    "- To understand current scenarios in deep learning, understand the practicalities and the trade-offs that need to be made when solving a problem in real life.\n",
    "  ###Milestones:\n",
    "\n",
    "## <span style=\"font-family: Arial; font-weight:normal;font-size:0.5em;color:#0e92ea\"> This project has 2 milestones.\n",
    "\n",
    "You get 3 weeks for completing each milestone.\n",
    "The 1st milestone should be submitted as part of the interim report.\n",
    "\n",
    "### <span style=\"font-family: Arial; font-weight:bold;font-size:1.2em;color:#da614e\"> 1st Milestone:\n",
    "\n",
    "## <span style=\"font-family: Arial; font-weight:normal;font-size:0.5em;color:#0e92ea\"> 1. Problem interpretation\n",
    "\n",
    "- Understand the data\n",
    "- Make an abstract or an overview based on your approach\n",
    "- Break the problem into smaller tasks\n",
    "- Discuss among your teammates and share responsibilities\n",
    "\n",
    "## <span style=\"font-family: Arial; font-weight:normal;font-size:0.5em;color:#0e92ea\"> 2. Data analysis and preprocessing:\n",
    "\n",
    "Visual displays are powerful when used well, so think carefully about the information the display.\n",
    "\n",
    "- Include any insightful visualization\n",
    "- Share and explain particularly meaningful features, interactions or summary of data\n",
    "- Display examples to input in your model\n",
    "- Explain changes to be incorporated into data so that it becomes ready for the model\n",
    "\n",
    "## <span style=\"font-family: Arial; font-weight:normal;font-size:0.5em;color:#0e92ea\"> 3. Modeling\n",
    "\n",
    "- What kind of neural network you have used and why?\n",
    "- What progress you have made towards your intended solution?\n"
   ]
  },
  {
   "cell_type": "markdown",
   "metadata": {},
   "source": [
    "### <span style=\"font-family: Arial; font-weight:bold;font-size:1.2em;color:#da614e\"> 2nd Milestone\n",
    "\n",
    "## <span style=\"font-family: Arial; font-weight:normal;font-size:0.5em;color:#0e92ea\"> 4. Model evaluation\n",
    "\n",
    "- Describe how you will proceed with the analysis\n",
    "- Compare different models and choose which model to use\n",
    "- Do hyper-parameter tuning of your model\n",
    "- How will you build on your initial analysis to increase the accuracy of your model?\n",
    "\n",
    "## <span style=\"font-family: Arial; font-weight:normal;font-size:0.5em;color:#0e92ea\"> 5. Presentation and Report\n",
    "\n",
    "- You should start preparing the final report at least 2 weeks prior to the project completion date.\n",
    "- Teams should send a draft Last of the project before the last session to the mentor and get the necessary inputs for submission.\n",
    "- The expectations for the final report will be included in your Capstone course page\n"
   ]
  },
  {
   "cell_type": "code",
   "execution_count": 2,
   "metadata": {},
   "outputs": [],
   "source": [
    "import os\n",
    "import numpy as np\n",
    "import pandas as pd\n",
    "import matplotlib.patches as patches\n",
    "from matplotlib.patches import Rectangle\n",
    "import matplotlib.pyplot as plt\n",
    "from matplotlib import pyplot\n",
    "%matplotlib inline\n",
    "import seaborn as sns\n",
    "import cv2\n",
    "import math\n",
    "from skimage import measure\n",
    "from skimage.transform import resize\n",
    "from glob import glob"
   ]
  },
  {
   "cell_type": "code",
   "execution_count": 3,
   "metadata": {},
   "outputs": [],
   "source": [
    "#csv files\n",
    "class_info = pd.read_csv('stage_2_detailed_class_info.csv')\n",
    "train_labels = pd.read_csv('stage_2_train_labels.csv')"
   ]
  },
  {
   "cell_type": "code",
   "execution_count": 4,
   "metadata": {},
   "outputs": [],
   "source": [
    "# Path\n",
    "os.chdir(PATH)\n",
    "\n",
    "TRAIN_IMAGES = os.path.join(PATH, 'stage_2_train_images\\\\')\n",
    "TEST_IMAGES = os.path.join(PATH, 'stage_2_test_images\\\\')\n",
    "\n",
    "# Output files will be stored here\n",
    "OUTPUT_DIR = os.path.join(PATH, 'output\\\\')"
   ]
  },
  {
   "cell_type": "code",
   "execution_count": 10,
   "metadata": {},
   "outputs": [
    {
     "name": "stdout",
     "output_type": "stream",
     "text": [
      "Train labels dataframe:\n",
      "\n"
     ]
    },
    {
     "data": {
      "text/html": [
       "<div>\n",
       "<style scoped>\n",
       "    .dataframe tbody tr th:only-of-type {\n",
       "        vertical-align: middle;\n",
       "    }\n",
       "\n",
       "    .dataframe tbody tr th {\n",
       "        vertical-align: top;\n",
       "    }\n",
       "\n",
       "    .dataframe thead th {\n",
       "        text-align: right;\n",
       "    }\n",
       "</style>\n",
       "<table border=\"1\" class=\"dataframe\">\n",
       "  <thead>\n",
       "    <tr style=\"text-align: right;\">\n",
       "      <th></th>\n",
       "      <th>patientId</th>\n",
       "      <th>x</th>\n",
       "      <th>y</th>\n",
       "      <th>width</th>\n",
       "      <th>height</th>\n",
       "      <th>Target</th>\n",
       "    </tr>\n",
       "  </thead>\n",
       "  <tbody>\n",
       "    <tr>\n",
       "      <th>0</th>\n",
       "      <td>0004cfab-14fd-4e49-80ba-63a80b6bddd6</td>\n",
       "      <td>NaN</td>\n",
       "      <td>NaN</td>\n",
       "      <td>NaN</td>\n",
       "      <td>NaN</td>\n",
       "      <td>0</td>\n",
       "    </tr>\n",
       "    <tr>\n",
       "      <th>1</th>\n",
       "      <td>00313ee0-9eaa-42f4-b0ab-c148ed3241cd</td>\n",
       "      <td>NaN</td>\n",
       "      <td>NaN</td>\n",
       "      <td>NaN</td>\n",
       "      <td>NaN</td>\n",
       "      <td>0</td>\n",
       "    </tr>\n",
       "    <tr>\n",
       "      <th>2</th>\n",
       "      <td>00322d4d-1c29-4943-afc9-b6754be640eb</td>\n",
       "      <td>NaN</td>\n",
       "      <td>NaN</td>\n",
       "      <td>NaN</td>\n",
       "      <td>NaN</td>\n",
       "      <td>0</td>\n",
       "    </tr>\n",
       "    <tr>\n",
       "      <th>3</th>\n",
       "      <td>003d8fa0-6bf1-40ed-b54c-ac657f8495c5</td>\n",
       "      <td>NaN</td>\n",
       "      <td>NaN</td>\n",
       "      <td>NaN</td>\n",
       "      <td>NaN</td>\n",
       "      <td>0</td>\n",
       "    </tr>\n",
       "    <tr>\n",
       "      <th>4</th>\n",
       "      <td>00436515-870c-4b36-a041-de91049b9ab4</td>\n",
       "      <td>264.0</td>\n",
       "      <td>152.0</td>\n",
       "      <td>213.0</td>\n",
       "      <td>379.0</td>\n",
       "      <td>1</td>\n",
       "    </tr>\n",
       "  </tbody>\n",
       "</table>\n",
       "</div>"
      ],
      "text/plain": [
       "                              patientId      x      y  width  height  Target\n",
       "0  0004cfab-14fd-4e49-80ba-63a80b6bddd6    NaN    NaN    NaN     NaN       0\n",
       "1  00313ee0-9eaa-42f4-b0ab-c148ed3241cd    NaN    NaN    NaN     NaN       0\n",
       "2  00322d4d-1c29-4943-afc9-b6754be640eb    NaN    NaN    NaN     NaN       0\n",
       "3  003d8fa0-6bf1-40ed-b54c-ac657f8495c5    NaN    NaN    NaN     NaN       0\n",
       "4  00436515-870c-4b36-a041-de91049b9ab4  264.0  152.0  213.0   379.0       1"
      ]
     },
     "execution_count": 10,
     "metadata": {},
     "output_type": "execute_result"
    }
   ],
   "source": [
    "print('Train labels dataframe:\\n'); \n",
    "train_labels.head()"
   ]
  },
  {
   "cell_type": "code",
   "execution_count": 11,
   "metadata": {},
   "outputs": [
    {
     "name": "stdout",
     "output_type": "stream",
     "text": [
      "Train labels info:\n",
      "\n",
      "<class 'pandas.core.frame.DataFrame'>\n",
      "RangeIndex: 30227 entries, 0 to 30226\n",
      "Data columns (total 6 columns):\n",
      " #   Column     Non-Null Count  Dtype  \n",
      "---  ------     --------------  -----  \n",
      " 0   patientId  30227 non-null  object \n",
      " 1   x          9555 non-null   float64\n",
      " 2   y          9555 non-null   float64\n",
      " 3   width      9555 non-null   float64\n",
      " 4   height     9555 non-null   float64\n",
      " 5   Target     30227 non-null  int64  \n",
      "dtypes: float64(4), int64(1), object(1)\n",
      "memory usage: 1.4+ MB\n"
     ]
    }
   ],
   "source": [
    "print('Train labels info:\\n'); \n",
    "train_labels.info()"
   ]
  },
  {
   "cell_type": "code",
   "execution_count": 12,
   "metadata": {},
   "outputs": [
    {
     "name": "stdout",
     "output_type": "stream",
     "text": [
      "\n",
      "Class info dataframe:\n",
      "\n"
     ]
    },
    {
     "data": {
      "text/html": [
       "<div>\n",
       "<style scoped>\n",
       "    .dataframe tbody tr th:only-of-type {\n",
       "        vertical-align: middle;\n",
       "    }\n",
       "\n",
       "    .dataframe tbody tr th {\n",
       "        vertical-align: top;\n",
       "    }\n",
       "\n",
       "    .dataframe thead th {\n",
       "        text-align: right;\n",
       "    }\n",
       "</style>\n",
       "<table border=\"1\" class=\"dataframe\">\n",
       "  <thead>\n",
       "    <tr style=\"text-align: right;\">\n",
       "      <th></th>\n",
       "      <th>patientId</th>\n",
       "      <th>class</th>\n",
       "    </tr>\n",
       "  </thead>\n",
       "  <tbody>\n",
       "    <tr>\n",
       "      <th>0</th>\n",
       "      <td>0004cfab-14fd-4e49-80ba-63a80b6bddd6</td>\n",
       "      <td>No Lung Opacity / Not Normal</td>\n",
       "    </tr>\n",
       "    <tr>\n",
       "      <th>1</th>\n",
       "      <td>00313ee0-9eaa-42f4-b0ab-c148ed3241cd</td>\n",
       "      <td>No Lung Opacity / Not Normal</td>\n",
       "    </tr>\n",
       "    <tr>\n",
       "      <th>2</th>\n",
       "      <td>00322d4d-1c29-4943-afc9-b6754be640eb</td>\n",
       "      <td>No Lung Opacity / Not Normal</td>\n",
       "    </tr>\n",
       "    <tr>\n",
       "      <th>3</th>\n",
       "      <td>003d8fa0-6bf1-40ed-b54c-ac657f8495c5</td>\n",
       "      <td>Normal</td>\n",
       "    </tr>\n",
       "    <tr>\n",
       "      <th>4</th>\n",
       "      <td>00436515-870c-4b36-a041-de91049b9ab4</td>\n",
       "      <td>Lung Opacity</td>\n",
       "    </tr>\n",
       "  </tbody>\n",
       "</table>\n",
       "</div>"
      ],
      "text/plain": [
       "                              patientId                         class\n",
       "0  0004cfab-14fd-4e49-80ba-63a80b6bddd6  No Lung Opacity / Not Normal\n",
       "1  00313ee0-9eaa-42f4-b0ab-c148ed3241cd  No Lung Opacity / Not Normal\n",
       "2  00322d4d-1c29-4943-afc9-b6754be640eb  No Lung Opacity / Not Normal\n",
       "3  003d8fa0-6bf1-40ed-b54c-ac657f8495c5                        Normal\n",
       "4  00436515-870c-4b36-a041-de91049b9ab4                  Lung Opacity"
      ]
     },
     "execution_count": 12,
     "metadata": {},
     "output_type": "execute_result"
    }
   ],
   "source": [
    "print('\\nClass info dataframe:\\n'); \n",
    "class_info.head()"
   ]
  },
  {
   "cell_type": "code",
   "execution_count": 23,
   "metadata": {},
   "outputs": [
    {
     "name": "stdout",
     "output_type": "stream",
     "text": [
      "Shape of the Train Labels dataframe: 30227 rows and 6 columns\n",
      "Shape of the Class info dataframe: 30227 rows and 2 columns\n"
     ]
    }
   ],
   "source": [
    "print(f'Shape of the Train Labels dataframe: {train_labels.shape[0]} rows and {train_labels.shape[1]} columns')\n",
    "print(f'Shape of the Class info dataframe: {class_info.shape[0]} rows and {class_info.shape[1]} columns')"
   ]
  },
  {
   "cell_type": "code",
   "execution_count": 24,
   "metadata": {},
   "outputs": [
    {
     "name": "stdout",
     "output_type": "stream",
     "text": [
      "Number of duplicates in Train Labels dataframe: 3543\n",
      "Number of duplicates in Class info dataframe: 3543\n"
     ]
    }
   ],
   "source": [
    "print('Number of duplicates in Train Labels dataframe: {}'.format(len(train_labels) - (train_labels['patientId'].nunique())))\n",
    "print('Number of duplicates in Class info dataframe: {}'.format(len(class_info) - (class_info['patientId'].nunique())))"
   ]
  },
  {
   "cell_type": "code",
   "execution_count": 25,
   "metadata": {},
   "outputs": [
    {
     "name": "stdout",
     "output_type": "stream",
     "text": [
      "Number of unique records in Train Labels dataframe: 26684\n",
      "Number of unique records in Class info dataframe: 26684\n"
     ]
    }
   ],
   "source": [
    "print('Number of unique records in Train Labels dataframe: {}'.format(train_labels['patientId'].nunique()))\n",
    "print('Number of unique records in Class info dataframe: {}'.format(class_info['patientId'].nunique()))"
   ]
  },
  {
   "cell_type": "code",
   "execution_count": 30,
   "metadata": {},
   "outputs": [
    {
     "name": "stdout",
     "output_type": "stream",
     "text": [
      "Nulls in bounding boxes: {'x': 20672, 'y': 20672, 'width': 20672, 'height': 20672}\n"
     ]
    }
   ],
   "source": [
    "print('Nulls in bounding boxes: {}'.format(train_labels[['x', 'y', 'width', 'height']].isnull().sum().to_dict())) "
   ]
  },
  {
   "cell_type": "code",
   "execution_count": 31,
   "metadata": {},
   "outputs": [
    {
     "name": "stdout",
     "output_type": "stream",
     "text": [
      "Null value counts for the targets: {0: 20672, 1: 9555}\n"
     ]
    }
   ],
   "source": [
    "print('Null value counts for the targets: {}'.format(train_labels['Target'].value_counts().to_dict()))"
   ]
  },
  {
   "cell_type": "code",
   "execution_count": 32,
   "metadata": {},
   "outputs": [
    {
     "data": {
      "image/png": "[encoded data removed]",
      "text/plain": [
       "<Figure size 1200x400 with 2 Axes>"
      ]
     },
     "metadata": {},
     "output_type": "display_data"
    }
   ],
   "source": [
    "fig = plt.figure(figsize = (12, 4))\n",
    "\n",
    "ax = fig.add_subplot(121)\n",
    "g = (train_labels['Target'].value_counts()\n",
    "    .plot(kind = 'pie', autopct = '%.0f%%', \n",
    "          labels = ['Negative', 'Pneumonia Evidence'], \n",
    "          colors = ['#ffcc99', '#ff9999'], \n",
    "          startangle = 90, \n",
    "          title = 'Distribution of Target', fontsize = 10)\n",
    "    .set_ylabel(''))\n",
    "\n",
    "ax = fig.add_subplot(122)\n",
    "g = (class_info['class'].value_counts().sort_index(ascending = False)\n",
    "    .plot(kind = 'pie', autopct = '%.0f%%', \n",
    "          colors = ['#ffcc99', '#8EB897', '#ff9999'], \n",
    "          startangle = 90, title = 'Distribution of Class', \n",
    "          fontsize = 10)\n",
    "    .set_ylabel(''))\n",
    "\n",
    "plt.tight_layout()"
   ]
  },
  {
   "cell_type": "code",
   "execution_count": 33,
   "metadata": {},
   "outputs": [
    {
     "data": {
      "text/html": [
       "<div>\n",
       "<style scoped>\n",
       "    .dataframe tbody tr th:only-of-type {\n",
       "        vertical-align: middle;\n",
       "    }\n",
       "\n",
       "    .dataframe tbody tr th {\n",
       "        vertical-align: top;\n",
       "    }\n",
       "\n",
       "    .dataframe thead th {\n",
       "        text-align: right;\n",
       "    }\n",
       "</style>\n",
       "<table border=\"1\" class=\"dataframe\">\n",
       "  <thead>\n",
       "    <tr style=\"text-align: right;\">\n",
       "      <th></th>\n",
       "      <th>number_of_patientIDs_per_boxes</th>\n",
       "    </tr>\n",
       "    <tr>\n",
       "      <th>number_of_boxes</th>\n",
       "      <th></th>\n",
       "    </tr>\n",
       "  </thead>\n",
       "  <tbody>\n",
       "    <tr>\n",
       "      <th>1</th>\n",
       "      <td>23286</td>\n",
       "    </tr>\n",
       "    <tr>\n",
       "      <th>2</th>\n",
       "      <td>3266</td>\n",
       "    </tr>\n",
       "    <tr>\n",
       "      <th>3</th>\n",
       "      <td>119</td>\n",
       "    </tr>\n",
       "    <tr>\n",
       "      <th>4</th>\n",
       "      <td>13</td>\n",
       "    </tr>\n",
       "  </tbody>\n",
       "</table>\n",
       "</div>"
      ],
      "text/plain": [
       "                 number_of_patientIDs_per_boxes\n",
       "number_of_boxes                                \n",
       "1                                         23286\n",
       "2                                          3266\n",
       "3                                           119\n",
       "4                                            13"
      ]
     },
     "execution_count": 33,
     "metadata": {},
     "output_type": "execute_result"
    }
   ],
   "source": [
    "bboxes = train_labels.groupby('patientId').size().to_frame('number_of_boxes').reset_index()\n",
    "train_labels = train_labels.merge(bboxes, on = 'patientId', how = 'left')\n",
    "\n",
    "(bboxes.groupby('number_of_boxes').size().to_frame('number_of_patientIDs_per_boxes').reset_index()\n",
    ".set_index('number_of_boxes')\n",
    ".sort_values(by = 'number_of_boxes'))"
   ]
  },
  {
   "cell_type": "code",
   "execution_count": 35,
   "metadata": {},
   "outputs": [
    {
     "data": {
      "text/html": [
       "<div>\n",
       "<style scoped>\n",
       "    .dataframe tbody tr th:only-of-type {\n",
       "        vertical-align: middle;\n",
       "    }\n",
       "\n",
       "    .dataframe tbody tr th {\n",
       "        vertical-align: top;\n",
       "    }\n",
       "\n",
       "    .dataframe thead th {\n",
       "        text-align: right;\n",
       "    }\n",
       "</style>\n",
       "<table border=\"1\" class=\"dataframe\">\n",
       "  <thead>\n",
       "    <tr style=\"text-align: right;\">\n",
       "      <th></th>\n",
       "      <th>patientId</th>\n",
       "      <th>x</th>\n",
       "      <th>y</th>\n",
       "      <th>width</th>\n",
       "      <th>height</th>\n",
       "      <th>Target</th>\n",
       "      <th>number_of_boxes</th>\n",
       "    </tr>\n",
       "  </thead>\n",
       "  <tbody>\n",
       "    <tr>\n",
       "      <th>28992</th>\n",
       "      <td>000fe35a-2649-43d4-b027-e67796d412e0</td>\n",
       "      <td>570.0</td>\n",
       "      <td>282.0</td>\n",
       "      <td>269.0</td>\n",
       "      <td>409.0</td>\n",
       "      <td>1</td>\n",
       "      <td>2</td>\n",
       "    </tr>\n",
       "    <tr>\n",
       "      <th>28993</th>\n",
       "      <td>000fe35a-2649-43d4-b027-e67796d412e0</td>\n",
       "      <td>83.0</td>\n",
       "      <td>227.0</td>\n",
       "      <td>296.0</td>\n",
       "      <td>438.0</td>\n",
       "      <td>1</td>\n",
       "      <td>2</td>\n",
       "    </tr>\n",
       "  </tbody>\n",
       "</table>\n",
       "</div>"
      ],
      "text/plain": [
       "                                  patientId      x      y  width  height  \\\n",
       "28992  000fe35a-2649-43d4-b027-e67796d412e0  570.0  282.0  269.0   409.0   \n",
       "28993  000fe35a-2649-43d4-b027-e67796d412e0   83.0  227.0  296.0   438.0   \n",
       "\n",
       "       Target  number_of_boxes  \n",
       "28992       1                2  \n",
       "28993       1                2  "
      ]
     },
     "execution_count": 35,
     "metadata": {},
     "output_type": "execute_result"
    }
   ],
   "source": [
    "train_labels[train_labels.patientId=='000fe35a-2649-43d4-b027-e67796d412e0']"
   ]
  },
  {
   "cell_type": "code",
   "execution_count": 39,
   "metadata": {},
   "outputs": [
    {
     "data": {
      "text/html": [
       "<div>\n",
       "<style scoped>\n",
       "    .dataframe tbody tr th:only-of-type {\n",
       "        vertical-align: middle;\n",
       "    }\n",
       "\n",
       "    .dataframe tbody tr th {\n",
       "        vertical-align: top;\n",
       "    }\n",
       "\n",
       "    .dataframe thead th {\n",
       "        text-align: right;\n",
       "    }\n",
       "</style>\n",
       "<table border=\"1\" class=\"dataframe\">\n",
       "  <thead>\n",
       "    <tr style=\"text-align: right;\">\n",
       "      <th></th>\n",
       "      <th>patientId</th>\n",
       "      <th>class</th>\n",
       "    </tr>\n",
       "  </thead>\n",
       "  <tbody>\n",
       "    <tr>\n",
       "      <th>25836</th>\n",
       "      <td>e6ef7f43-4c94-4999-9ec0-f341312f70a2</td>\n",
       "      <td>Normal</td>\n",
       "    </tr>\n",
       "  </tbody>\n",
       "</table>\n",
       "</div>"
      ],
      "text/plain": [
       "                                  patientId   class\n",
       "25836  e6ef7f43-4c94-4999-9ec0-f341312f70a2  Normal"
      ]
     },
     "execution_count": 39,
     "metadata": {},
     "output_type": "execute_result"
    }
   ],
   "source": [
    "class_info[class_info.patientId=='e6ef7f43-4c94-4999-9ec0-f341312f70a2']"
   ]
  },
  {
   "cell_type": "code",
   "execution_count": 41,
   "metadata": {},
   "outputs": [
    {
     "name": "stdout",
     "output_type": "stream",
     "text": [
      "Each patientId is associated with only 1 class\n"
     ]
    }
   ],
   "source": [
    "print('Each patientId is associated with only {} class'.format(class_info.groupby(['patientId'])['class'].nunique().max()))"
   ]
  },
  {
   "cell_type": "code",
   "execution_count": 42,
   "metadata": {},
   "outputs": [
    {
     "name": "stdout",
     "output_type": "stream",
     "text": [
      "Shape of the dataframe after the merge: (30227, 8)\n",
      "Shape of the dataframe with unique records after the merge: 26684\n"
     ]
    }
   ],
   "source": [
    "train_class = pd.concat([train_labels, class_info['class']], axis = 1)\n",
    "print('Shape of the dataframe after the merge: {}'.format(train_class.shape))\n",
    "print('Shape of the dataframe with unique records after the merge: {}'.format(train_class['patientId'].nunique()))"
   ]
  },
  {
   "cell_type": "code",
   "execution_count": 47,
   "metadata": {},
   "outputs": [
    {
     "name": "stdout",
     "output_type": "stream",
     "text": [
      "Number of images in the training folder: 26684\n",
      "Columns in the training images dataframe: ['path', 'patientId']\n"
     ]
    }
   ],
   "source": [
    "images = pd.DataFrame({'path': glob(os.path.join(TRAIN_IMAGES, '*.dcm'))})\n",
    "images['patientId'] = images['path'].map(lambda x: os.path.splitext(os.path.basename(x))[0])\n",
    "\n",
    "print('Number of images in the training folder: {}'.format(images.shape[0]))\n",
    "print('Columns in the training images dataframe: {}'.format(list(images.columns)))\n",
    "\n",
    "assert images.shape[0] == len(list(set(train_class['patientId']))), 'Number of training images should be equal to the unique patientIds we have'"
   ]
  },
  {
   "cell_type": "code",
   "execution_count": 48,
   "metadata": {},
   "outputs": [
    {
     "name": "stdout",
     "output_type": "stream",
     "text": [
      "Shape of the train_class dataframe after merge: (30227, 9)\n"
     ]
    }
   ],
   "source": [
    "train_class = train_class.merge(images, on = 'patientId', how = 'left')\n",
    "print('Shape of the train_class dataframe after merge: {}'.format(train_class.shape))\n",
    "del images"
   ]
  },
  {
   "cell_type": "code",
   "execution_count": null,
   "metadata": {},
   "outputs": [],
   "source": []
  },
  {
   "cell_type": "code",
   "execution_count": null,
   "metadata": {},
   "outputs": [],
   "source": []
  },
  {
   "cell_type": "code",
   "execution_count": null,
   "metadata": {},
   "outputs": [],
   "source": []
  },
  {
   "cell_type": "code",
   "execution_count": null,
   "metadata": {},
   "outputs": [],
   "source": []
  }
 ],
 "metadata": {
  "kernelspec": {
   "display_name": "Python 3",
   "language": "python",
   "name": "python3"
  },
  "language_info": {
   "codemirror_mode": {
    "name": "ipython",
    "version": 3
   },
   "file_extension": ".py",
   "mimetype": "text/x-python",
   "name": "python",
   "nbconvert_exporter": "python",
   "pygments_lexer": "ipython3",
   "version": "3.11.7"
  }
 },
 "nbformat": 4,
 "nbformat_minor": 2
}
