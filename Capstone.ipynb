{
 "cells": [
  {
   "cell_type": "markdown",
   "metadata": {},
   "source": [
    "# <span style=\"font-family: Arial; font-weight:bold;font-size:1.9em;color:#0e92ea\"> Capstone Project\n"
   ]
  },
  {
   "cell_type": "markdown",
   "metadata": {},
   "source": [
    "### <span style=\"font-family: Arial; font-weight:bold;font-size:1.2em;color:#da614e\"> Capstone Overview\n"
   ]
  },
  {
   "cell_type": "markdown",
   "metadata": {},
   "source": [
    "## <span style=\"font-family: Arial; font-weight:normal;font-size:0.5em;color:#0e92ea\"> Objective:\n",
    "\n",
    "- To undertake a multi-faceted project that demonstrates your understanding and mastery of the key conceptual and technological aspects of Deep Learning.\n",
    "- To develop an understanding of how challenging human-level problems can be approached and solved using a combination of tools and techniques.\n",
    "- To understand current scenarios in deep learning, understand the practicalities and the trade-offs that need to be made when solving a problem in real life.\n",
    "  ###Milestones:\n",
    "\n",
    "## <span style=\"font-family: Arial; font-weight:normal;font-size:0.5em;color:#0e92ea\"> This project has 2 milestones.\n",
    "\n",
    "You get 3 weeks for completing each milestone.\n",
    "The 1st milestone should be submitted as part of the interim report.\n",
    "\n",
    "### <span style=\"font-family: Arial; font-weight:bold;font-size:1.2em;color:#da614e\"> 1st Milestone:\n",
    "\n",
    "## <span style=\"font-family: Arial; font-weight:normal;font-size:0.5em;color:#0e92ea\"> 1. Problem interpretation\n",
    "\n",
    "- Understand the data\n",
    "- Make an abstract or an overview based on your approach\n",
    "- Break the problem into smaller tasks\n",
    "- Discuss among your teammates and share responsibilities\n",
    "\n",
    "## <span style=\"font-family: Arial; font-weight:normal;font-size:0.5em;color:#0e92ea\"> 2. Data analysis and preprocessing:\n",
    "\n",
    "Visual displays are powerful when used well, so think carefully about the information the display.\n",
    "\n",
    "- Include any insightful visualization\n",
    "- Share and explain particularly meaningful features, interactions or summary of data\n",
    "- Display examples to input in your model\n",
    "- Explain changes to be incorporated into data so that it becomes ready for the model\n",
    "\n",
    "## <span style=\"font-family: Arial; font-weight:normal;font-size:0.5em;color:#0e92ea\"> 3. Modeling\n",
    "\n",
    "- What kind of neural network you have used and why?\n",
    "- What progress you have made towards your intended solution?\n"
   ]
  },
  {
   "cell_type": "markdown",
   "metadata": {},
   "source": [
    "### <span style=\"font-family: Arial; font-weight:bold;font-size:1.2em;color:#da614e\"> 2nd Milestone\n",
    "\n",
    "## <span style=\"font-family: Arial; font-weight:normal;font-size:0.5em;color:#0e92ea\"> 4. Model evaluation\n",
    "\n",
    "- Describe how you will proceed with the analysis\n",
    "- Compare different models and choose which model to use\n",
    "- Do hyper-parameter tuning of your model\n",
    "- How will you build on your initial analysis to increase the accuracy of your model?\n",
    "\n",
    "## <span style=\"font-family: Arial; font-weight:normal;font-size:0.5em;color:#0e92ea\"> 5. Presentation and Report\n",
    "\n",
    "- You should start preparing the final report at least 2 weeks prior to the project completion date.\n",
    "- Teams should send a draft Last of the project before the last session to the mentor and get the necessary inputs for submission.\n",
    "- The expectations for the final report will be included in your Capstone course page\n"
   ]
  },
  {
   "cell_type": "code",
   "execution_count": null,
   "metadata": {},
   "outputs": [],
   "source": [
    "# Importing necessary libraries\n",
    "\n",
    "import os\n",
    "import numpy as np\n",
    "import pandas as pd\n",
    "import matplotlib.patches as patches\n",
    "from matplotlib.patches import Rectangle\n",
    "import matplotlib.pyplot as plt\n",
    "from matplotlib import pyplot\n",
    "%matplotlib inline\n",
    "import seaborn as sns\n",
    "import math\n",
    "from skimage import measure\n",
    "from skimage.transform import resize"
   ]
  },
  {
   "cell_type": "code",
   "execution_count": null,
   "metadata": {},
   "outputs": [],
   "source": []
  }
 ],
 "metadata": {
  "kernelspec": {
   "display_name": "Python 3",
   "language": "python",
   "name": "python3"
  },
  "language_info": {
   "codemirror_mode": {
    "name": "ipython",
    "version": 3
   },
   "file_extension": ".py",
   "mimetype": "text/x-python",
   "name": "python",
   "nbconvert_exporter": "python",
   "pygments_lexer": "ipython3",
   "version": "3.11.6"
  }
 },
 "nbformat": 4,
 "nbformat_minor": 2
}
